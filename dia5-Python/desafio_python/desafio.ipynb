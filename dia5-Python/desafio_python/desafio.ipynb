{
 "cells": [
  {
   "cell_type": "markdown",
   "id": "34264840abc85ee5",
   "metadata": {},
   "source": [
    "## Desafio - Análise de Dados com Python\n",
    "#### Desenvolvedor: Lucca de Sena Barbosa\n",
    "#### Curso: Ciências da Computação - 3º período\n",
    "#### Ferramenta de desenvolvimento: PyCharm\n",
    "\n",
    "🔹 Faça a análise de um dataset de um rh de uma empresa, plote gráficos e escreva em cada etapa o que você entendeu do código e extraia insights\n"
   ]
  },
  {
   "cell_type": "code",
   "execution_count": 68,
   "id": "95b67c4c6032a655",
   "metadata": {
    "ExecuteTime": {
     "end_time": "2025-02-26T22:50:02.727628Z",
     "start_time": "2025-02-26T22:50:02.610069Z"
    }
   },
   "outputs": [],
   "source": [
    "# Importação das Bibliotecas\n",
    "\n",
    "import pandas as pd\n",
    "import matplotlib.pyplot as plt"
   ]
  },
  {
   "cell_type": "code",
   "execution_count": null,
   "id": "e3222bbb9b51fbfe",
   "metadata": {
    "ExecuteTime": {
     "end_time": "2025-02-26T22:42:42.734670Z",
     "start_time": "2025-02-26T22:42:42.710672Z"
    }
   },
   "outputs": [
    {
     "data": {
      "text/html": [
       "<div>\n",
       "<style scoped>\n",
       "    .dataframe tbody tr th:only-of-type {\n",
       "        vertical-align: middle;\n",
       "    }\n",
       "\n",
       "    .dataframe tbody tr th {\n",
       "        vertical-align: top;\n",
       "    }\n",
       "\n",
       "    .dataframe thead th {\n",
       "        text-align: right;\n",
       "    }\n",
       "</style>\n",
       "<table border=\"1\" class=\"dataframe\">\n",
       "  <thead>\n",
       "    <tr style=\"text-align: right;\">\n",
       "      <th></th>\n",
       "      <th>Age</th>\n",
       "      <th>Attrition</th>\n",
       "      <th>BusinessTravel</th>\n",
       "      <th>DailyRate</th>\n",
       "      <th>Department</th>\n",
       "      <th>DistanceFromHome</th>\n",
       "      <th>Education</th>\n",
       "      <th>EducationField</th>\n",
       "      <th>EmployeeCount</th>\n",
       "      <th>EmployeeNumber</th>\n",
       "      <th>...</th>\n",
       "      <th>RelationshipSatisfaction</th>\n",
       "      <th>StandardHours</th>\n",
       "      <th>StockOptionLevel</th>\n",
       "      <th>TotalWorkingYears</th>\n",
       "      <th>TrainingTimesLastYear</th>\n",
       "      <th>WorkLifeBalance</th>\n",
       "      <th>YearsAtCompany</th>\n",
       "      <th>YearsInCurrentRole</th>\n",
       "      <th>YearsSinceLastPromotion</th>\n",
       "      <th>YearsWithCurrManager</th>\n",
       "    </tr>\n",
       "  </thead>\n",
       "  <tbody>\n",
       "    <tr>\n",
       "      <th>0</th>\n",
       "      <td>41</td>\n",
       "      <td>Yes</td>\n",
       "      <td>Travel_Rarely</td>\n",
       "      <td>1102</td>\n",
       "      <td>Sales</td>\n",
       "      <td>1</td>\n",
       "      <td>2</td>\n",
       "      <td>Life Sciences</td>\n",
       "      <td>1</td>\n",
       "      <td>1</td>\n",
       "      <td>...</td>\n",
       "      <td>1</td>\n",
       "      <td>80</td>\n",
       "      <td>0</td>\n",
       "      <td>8</td>\n",
       "      <td>0</td>\n",
       "      <td>1</td>\n",
       "      <td>6</td>\n",
       "      <td>4</td>\n",
       "      <td>0</td>\n",
       "      <td>5</td>\n",
       "    </tr>\n",
       "    <tr>\n",
       "      <th>1</th>\n",
       "      <td>49</td>\n",
       "      <td>No</td>\n",
       "      <td>Travel_Frequently</td>\n",
       "      <td>279</td>\n",
       "      <td>Research &amp; Development</td>\n",
       "      <td>8</td>\n",
       "      <td>1</td>\n",
       "      <td>Life Sciences</td>\n",
       "      <td>1</td>\n",
       "      <td>2</td>\n",
       "      <td>...</td>\n",
       "      <td>4</td>\n",
       "      <td>80</td>\n",
       "      <td>1</td>\n",
       "      <td>10</td>\n",
       "      <td>3</td>\n",
       "      <td>3</td>\n",
       "      <td>10</td>\n",
       "      <td>7</td>\n",
       "      <td>1</td>\n",
       "      <td>7</td>\n",
       "    </tr>\n",
       "    <tr>\n",
       "      <th>2</th>\n",
       "      <td>37</td>\n",
       "      <td>Yes</td>\n",
       "      <td>Travel_Rarely</td>\n",
       "      <td>1373</td>\n",
       "      <td>Research &amp; Development</td>\n",
       "      <td>2</td>\n",
       "      <td>2</td>\n",
       "      <td>Other</td>\n",
       "      <td>1</td>\n",
       "      <td>4</td>\n",
       "      <td>...</td>\n",
       "      <td>2</td>\n",
       "      <td>80</td>\n",
       "      <td>0</td>\n",
       "      <td>7</td>\n",
       "      <td>3</td>\n",
       "      <td>3</td>\n",
       "      <td>0</td>\n",
       "      <td>0</td>\n",
       "      <td>0</td>\n",
       "      <td>0</td>\n",
       "    </tr>\n",
       "    <tr>\n",
       "      <th>3</th>\n",
       "      <td>33</td>\n",
       "      <td>No</td>\n",
       "      <td>Travel_Frequently</td>\n",
       "      <td>1392</td>\n",
       "      <td>Research &amp; Development</td>\n",
       "      <td>3</td>\n",
       "      <td>4</td>\n",
       "      <td>Life Sciences</td>\n",
       "      <td>1</td>\n",
       "      <td>5</td>\n",
       "      <td>...</td>\n",
       "      <td>3</td>\n",
       "      <td>80</td>\n",
       "      <td>0</td>\n",
       "      <td>8</td>\n",
       "      <td>3</td>\n",
       "      <td>3</td>\n",
       "      <td>8</td>\n",
       "      <td>7</td>\n",
       "      <td>3</td>\n",
       "      <td>0</td>\n",
       "    </tr>\n",
       "    <tr>\n",
       "      <th>4</th>\n",
       "      <td>27</td>\n",
       "      <td>No</td>\n",
       "      <td>Travel_Rarely</td>\n",
       "      <td>591</td>\n",
       "      <td>Research &amp; Development</td>\n",
       "      <td>2</td>\n",
       "      <td>1</td>\n",
       "      <td>Medical</td>\n",
       "      <td>1</td>\n",
       "      <td>7</td>\n",
       "      <td>...</td>\n",
       "      <td>4</td>\n",
       "      <td>80</td>\n",
       "      <td>1</td>\n",
       "      <td>6</td>\n",
       "      <td>3</td>\n",
       "      <td>3</td>\n",
       "      <td>2</td>\n",
       "      <td>2</td>\n",
       "      <td>2</td>\n",
       "      <td>2</td>\n",
       "    </tr>\n",
       "    <tr>\n",
       "      <th>...</th>\n",
       "      <td>...</td>\n",
       "      <td>...</td>\n",
       "      <td>...</td>\n",
       "      <td>...</td>\n",
       "      <td>...</td>\n",
       "      <td>...</td>\n",
       "      <td>...</td>\n",
       "      <td>...</td>\n",
       "      <td>...</td>\n",
       "      <td>...</td>\n",
       "      <td>...</td>\n",
       "      <td>...</td>\n",
       "      <td>...</td>\n",
       "      <td>...</td>\n",
       "      <td>...</td>\n",
       "      <td>...</td>\n",
       "      <td>...</td>\n",
       "      <td>...</td>\n",
       "      <td>...</td>\n",
       "      <td>...</td>\n",
       "      <td>...</td>\n",
       "    </tr>\n",
       "    <tr>\n",
       "      <th>1465</th>\n",
       "      <td>36</td>\n",
       "      <td>No</td>\n",
       "      <td>Travel_Frequently</td>\n",
       "      <td>884</td>\n",
       "      <td>Research &amp; Development</td>\n",
       "      <td>23</td>\n",
       "      <td>2</td>\n",
       "      <td>Medical</td>\n",
       "      <td>1</td>\n",
       "      <td>2061</td>\n",
       "      <td>...</td>\n",
       "      <td>3</td>\n",
       "      <td>80</td>\n",
       "      <td>1</td>\n",
       "      <td>17</td>\n",
       "      <td>3</td>\n",
       "      <td>3</td>\n",
       "      <td>5</td>\n",
       "      <td>2</td>\n",
       "      <td>0</td>\n",
       "      <td>3</td>\n",
       "    </tr>\n",
       "    <tr>\n",
       "      <th>1466</th>\n",
       "      <td>39</td>\n",
       "      <td>No</td>\n",
       "      <td>Travel_Rarely</td>\n",
       "      <td>613</td>\n",
       "      <td>Research &amp; Development</td>\n",
       "      <td>6</td>\n",
       "      <td>1</td>\n",
       "      <td>Medical</td>\n",
       "      <td>1</td>\n",
       "      <td>2062</td>\n",
       "      <td>...</td>\n",
       "      <td>1</td>\n",
       "      <td>80</td>\n",
       "      <td>1</td>\n",
       "      <td>9</td>\n",
       "      <td>5</td>\n",
       "      <td>3</td>\n",
       "      <td>7</td>\n",
       "      <td>7</td>\n",
       "      <td>1</td>\n",
       "      <td>7</td>\n",
       "    </tr>\n",
       "    <tr>\n",
       "      <th>1467</th>\n",
       "      <td>27</td>\n",
       "      <td>No</td>\n",
       "      <td>Travel_Rarely</td>\n",
       "      <td>155</td>\n",
       "      <td>Research &amp; Development</td>\n",
       "      <td>4</td>\n",
       "      <td>3</td>\n",
       "      <td>Life Sciences</td>\n",
       "      <td>1</td>\n",
       "      <td>2064</td>\n",
       "      <td>...</td>\n",
       "      <td>2</td>\n",
       "      <td>80</td>\n",
       "      <td>1</td>\n",
       "      <td>6</td>\n",
       "      <td>0</td>\n",
       "      <td>3</td>\n",
       "      <td>6</td>\n",
       "      <td>2</td>\n",
       "      <td>0</td>\n",
       "      <td>3</td>\n",
       "    </tr>\n",
       "    <tr>\n",
       "      <th>1468</th>\n",
       "      <td>49</td>\n",
       "      <td>No</td>\n",
       "      <td>Travel_Frequently</td>\n",
       "      <td>1023</td>\n",
       "      <td>Sales</td>\n",
       "      <td>2</td>\n",
       "      <td>3</td>\n",
       "      <td>Medical</td>\n",
       "      <td>1</td>\n",
       "      <td>2065</td>\n",
       "      <td>...</td>\n",
       "      <td>4</td>\n",
       "      <td>80</td>\n",
       "      <td>0</td>\n",
       "      <td>17</td>\n",
       "      <td>3</td>\n",
       "      <td>2</td>\n",
       "      <td>9</td>\n",
       "      <td>6</td>\n",
       "      <td>0</td>\n",
       "      <td>8</td>\n",
       "    </tr>\n",
       "    <tr>\n",
       "      <th>1469</th>\n",
       "      <td>34</td>\n",
       "      <td>No</td>\n",
       "      <td>Travel_Rarely</td>\n",
       "      <td>628</td>\n",
       "      <td>Research &amp; Development</td>\n",
       "      <td>8</td>\n",
       "      <td>3</td>\n",
       "      <td>Medical</td>\n",
       "      <td>1</td>\n",
       "      <td>2068</td>\n",
       "      <td>...</td>\n",
       "      <td>1</td>\n",
       "      <td>80</td>\n",
       "      <td>0</td>\n",
       "      <td>6</td>\n",
       "      <td>3</td>\n",
       "      <td>4</td>\n",
       "      <td>4</td>\n",
       "      <td>3</td>\n",
       "      <td>1</td>\n",
       "      <td>2</td>\n",
       "    </tr>\n",
       "  </tbody>\n",
       "</table>\n",
       "<p>1470 rows × 35 columns</p>\n",
       "</div>"
      ],
      "text/plain": [
       "      Age Attrition     BusinessTravel  DailyRate              Department  \\\n",
       "0      41       Yes      Travel_Rarely       1102                   Sales   \n",
       "1      49        No  Travel_Frequently        279  Research & Development   \n",
       "2      37       Yes      Travel_Rarely       1373  Research & Development   \n",
       "3      33        No  Travel_Frequently       1392  Research & Development   \n",
       "4      27        No      Travel_Rarely        591  Research & Development   \n",
       "...   ...       ...                ...        ...                     ...   \n",
       "1465   36        No  Travel_Frequently        884  Research & Development   \n",
       "1466   39        No      Travel_Rarely        613  Research & Development   \n",
       "1467   27        No      Travel_Rarely        155  Research & Development   \n",
       "1468   49        No  Travel_Frequently       1023                   Sales   \n",
       "1469   34        No      Travel_Rarely        628  Research & Development   \n",
       "\n",
       "      DistanceFromHome  Education EducationField  EmployeeCount  \\\n",
       "0                    1          2  Life Sciences              1   \n",
       "1                    8          1  Life Sciences              1   \n",
       "2                    2          2          Other              1   \n",
       "3                    3          4  Life Sciences              1   \n",
       "4                    2          1        Medical              1   \n",
       "...                ...        ...            ...            ...   \n",
       "1465                23          2        Medical              1   \n",
       "1466                 6          1        Medical              1   \n",
       "1467                 4          3  Life Sciences              1   \n",
       "1468                 2          3        Medical              1   \n",
       "1469                 8          3        Medical              1   \n",
       "\n",
       "      EmployeeNumber  ...  RelationshipSatisfaction StandardHours  \\\n",
       "0                  1  ...                         1            80   \n",
       "1                  2  ...                         4            80   \n",
       "2                  4  ...                         2            80   \n",
       "3                  5  ...                         3            80   \n",
       "4                  7  ...                         4            80   \n",
       "...              ...  ...                       ...           ...   \n",
       "1465            2061  ...                         3            80   \n",
       "1466            2062  ...                         1            80   \n",
       "1467            2064  ...                         2            80   \n",
       "1468            2065  ...                         4            80   \n",
       "1469            2068  ...                         1            80   \n",
       "\n",
       "      StockOptionLevel  TotalWorkingYears  TrainingTimesLastYear  \\\n",
       "0                    0                  8                      0   \n",
       "1                    1                 10                      3   \n",
       "2                    0                  7                      3   \n",
       "3                    0                  8                      3   \n",
       "4                    1                  6                      3   \n",
       "...                ...                ...                    ...   \n",
       "1465                 1                 17                      3   \n",
       "1466                 1                  9                      5   \n",
       "1467                 1                  6                      0   \n",
       "1468                 0                 17                      3   \n",
       "1469                 0                  6                      3   \n",
       "\n",
       "     WorkLifeBalance  YearsAtCompany YearsInCurrentRole  \\\n",
       "0                  1               6                  4   \n",
       "1                  3              10                  7   \n",
       "2                  3               0                  0   \n",
       "3                  3               8                  7   \n",
       "4                  3               2                  2   \n",
       "...              ...             ...                ...   \n",
       "1465               3               5                  2   \n",
       "1466               3               7                  7   \n",
       "1467               3               6                  2   \n",
       "1468               2               9                  6   \n",
       "1469               4               4                  3   \n",
       "\n",
       "      YearsSinceLastPromotion  YearsWithCurrManager  \n",
       "0                           0                     5  \n",
       "1                           1                     7  \n",
       "2                           0                     0  \n",
       "3                           3                     0  \n",
       "4                           2                     2  \n",
       "...                       ...                   ...  \n",
       "1465                        0                     3  \n",
       "1466                        1                     7  \n",
       "1467                        0                     3  \n",
       "1468                        0                     8  \n",
       "1469                        1                     2  \n",
       "\n",
       "[1470 rows x 35 columns]"
      ]
     },
     "execution_count": 47,
     "metadata": {},
     "output_type": "execute_result"
    }
   ],
   "source": [
    "# Importando um dataset de origem \".csv\" através do método pandas\n",
    "\n",
    "df = pd.read_csv(\"data/dados_rh.csv\")\n",
    "df"
   ]
  },
  {
   "cell_type": "markdown",
   "id": "54cd5e62b0694c5f",
   "metadata": {},
   "source": [
    "## 1. Tratamento dos Dados:\n",
    "Antes de iniciar a análise, é fundamental garantir que os dados estejam limpos e representem corretamente a realidade do banco de dados. Qualquer inconsistência pode comprometer os insights obtidos.\n",
    "Neste passo, realizaremos uma análise detalhada de cada coluna para identificar e corrigir possíveis problemas"
   ]
  },
  {
   "cell_type": "code",
   "execution_count": 48,
   "id": "93304c515cf28be1",
   "metadata": {
    "ExecuteTime": {
     "end_time": "2025-02-26T22:42:42.768694Z",
     "start_time": "2025-02-26T22:42:42.764688Z"
    }
   },
   "outputs": [
    {
     "data": {
      "text/plain": [
       "Index(['Age', 'Attrition', 'BusinessTravel', 'DailyRate', 'Department',\n",
       "       'DistanceFromHome', 'Education', 'EducationField', 'EmployeeCount',\n",
       "       'EmployeeNumber', 'EnvironmentSatisfaction', 'Gender', 'HourlyRate',\n",
       "       'JobInvolvement', 'JobLevel', 'JobRole', 'JobSatisfaction',\n",
       "       'MaritalStatus', 'MonthlyIncome', 'MonthlyRate', 'NumCompaniesWorked',\n",
       "       'Over18', 'OverTime', 'PercentSalaryHike', 'PerformanceRating',\n",
       "       'RelationshipSatisfaction', 'StandardHours', 'StockOptionLevel',\n",
       "       'TotalWorkingYears', 'TrainingTimesLastYear', 'WorkLifeBalance',\n",
       "       'YearsAtCompany', 'YearsInCurrentRole', 'YearsSinceLastPromotion',\n",
       "       'YearsWithCurrManager'],\n",
       "      dtype='object')"
      ]
     },
     "execution_count": 48,
     "metadata": {},
     "output_type": "execute_result"
    }
   ],
   "source": [
    "df.columns      # Retorna o nome das colunas"
   ]
  },
  {
   "cell_type": "code",
   "execution_count": 49,
   "id": "16af2b1fd536d0c4",
   "metadata": {
    "ExecuteTime": {
     "end_time": "2025-02-26T22:42:42.838224Z",
     "start_time": "2025-02-26T22:42:42.831220Z"
    }
   },
   "outputs": [
    {
     "name": "stdout",
     "output_type": "stream",
     "text": [
      "<class 'pandas.core.frame.DataFrame'>\n",
      "RangeIndex: 1470 entries, 0 to 1469\n",
      "Data columns (total 35 columns):\n",
      " #   Column                    Non-Null Count  Dtype \n",
      "---  ------                    --------------  ----- \n",
      " 0   Age                       1470 non-null   int64 \n",
      " 1   Attrition                 1470 non-null   object\n",
      " 2   BusinessTravel            1470 non-null   object\n",
      " 3   DailyRate                 1470 non-null   int64 \n",
      " 4   Department                1470 non-null   object\n",
      " 5   DistanceFromHome          1470 non-null   int64 \n",
      " 6   Education                 1470 non-null   int64 \n",
      " 7   EducationField            1470 non-null   object\n",
      " 8   EmployeeCount             1470 non-null   int64 \n",
      " 9   EmployeeNumber            1470 non-null   int64 \n",
      " 10  EnvironmentSatisfaction   1470 non-null   int64 \n",
      " 11  Gender                    1470 non-null   object\n",
      " 12  HourlyRate                1470 non-null   int64 \n",
      " 13  JobInvolvement            1470 non-null   int64 \n",
      " 14  JobLevel                  1470 non-null   int64 \n",
      " 15  JobRole                   1470 non-null   object\n",
      " 16  JobSatisfaction           1470 non-null   int64 \n",
      " 17  MaritalStatus             1470 non-null   object\n",
      " 18  MonthlyIncome             1470 non-null   int64 \n",
      " 19  MonthlyRate               1470 non-null   int64 \n",
      " 20  NumCompaniesWorked        1470 non-null   int64 \n",
      " 21  Over18                    1470 non-null   object\n",
      " 22  OverTime                  1470 non-null   object\n",
      " 23  PercentSalaryHike         1470 non-null   int64 \n",
      " 24  PerformanceRating         1470 non-null   int64 \n",
      " 25  RelationshipSatisfaction  1470 non-null   int64 \n",
      " 26  StandardHours             1470 non-null   int64 \n",
      " 27  StockOptionLevel          1470 non-null   int64 \n",
      " 28  TotalWorkingYears         1470 non-null   int64 \n",
      " 29  TrainingTimesLastYear     1470 non-null   int64 \n",
      " 30  WorkLifeBalance           1470 non-null   int64 \n",
      " 31  YearsAtCompany            1470 non-null   int64 \n",
      " 32  YearsInCurrentRole        1470 non-null   int64 \n",
      " 33  YearsSinceLastPromotion   1470 non-null   int64 \n",
      " 34  YearsWithCurrManager      1470 non-null   int64 \n",
      "dtypes: int64(26), object(9)\n",
      "memory usage: 402.1+ KB\n"
     ]
    }
   ],
   "source": [
    "df.info()       # Traz informações gerais sobre a base de dados"
   ]
  },
  {
   "cell_type": "markdown",
   "id": "996318e19300b727",
   "metadata": {},
   "source": [
    "Como apresentado, não há indícios de valores nulos nas colunas dos dados."
   ]
  },
  {
   "cell_type": "code",
   "execution_count": 50,
   "id": "c4305baa3f966bc6",
   "metadata": {
    "ExecuteTime": {
     "end_time": "2025-02-26T22:42:42.903358Z",
     "start_time": "2025-02-26T22:42:42.897360Z"
    }
   },
   "outputs": [],
   "source": [
    "# Nesta parte do código, será reunido todos os valores que compõe as colunas do tipo objeto\n",
    "\n",
    "group_attrition = df.groupby('Attrition').size()\n",
    "group_BusinessTravel = df.groupby('BusinessTravel').size()\n",
    "group_Department= df.groupby('Department').size()\n",
    "group_EducationField= df.groupby('EducationField').size()\n",
    "group_Gender = df.groupby('Gender').size()\n",
    "group_JobRole= df.groupby('JobRole').size()\n",
    "group_MaritalStatus= df.groupby('MaritalStatus').size()\n",
    "group_Over18 = df.groupby('Over18').size()\n",
    "group_OverTime= df.groupby('OverTime').size()"
   ]
  },
  {
   "cell_type": "code",
   "execution_count": 51,
   "id": "44d551285ccf5e85",
   "metadata": {
    "ExecuteTime": {
     "end_time": "2025-02-26T22:42:42.947805Z",
     "start_time": "2025-02-26T22:42:42.944636Z"
    }
   },
   "outputs": [
    {
     "data": {
      "text/plain": [
       "Attrition\n",
       "No     1233\n",
       "Yes     237\n",
       "dtype: int64"
      ]
     },
     "execution_count": 51,
     "metadata": {},
     "output_type": "execute_result"
    }
   ],
   "source": [
    "group_attrition"
   ]
  },
  {
   "cell_type": "code",
   "execution_count": 52,
   "id": "2dc53b71f8da9e68",
   "metadata": {
    "ExecuteTime": {
     "end_time": "2025-02-26T22:42:42.990395Z",
     "start_time": "2025-02-26T22:42:42.986391Z"
    }
   },
   "outputs": [
    {
     "data": {
      "text/plain": [
       "BusinessTravel\n",
       "Non-Travel            150\n",
       "Travel_Frequently     277\n",
       "Travel_Rarely        1043\n",
       "dtype: int64"
      ]
     },
     "execution_count": 52,
     "metadata": {},
     "output_type": "execute_result"
    }
   ],
   "source": [
    "group_BusinessTravel"
   ]
  },
  {
   "cell_type": "code",
   "execution_count": 53,
   "id": "b58952ae9b16e32b",
   "metadata": {
    "ExecuteTime": {
     "end_time": "2025-02-26T22:42:43.042089Z",
     "start_time": "2025-02-26T22:42:43.038040Z"
    }
   },
   "outputs": [
    {
     "data": {
      "text/plain": [
       "Department\n",
       "Human Resources            63\n",
       "Research & Development    961\n",
       "Sales                     446\n",
       "dtype: int64"
      ]
     },
     "execution_count": 53,
     "metadata": {},
     "output_type": "execute_result"
    }
   ],
   "source": [
    "group_Department"
   ]
  },
  {
   "cell_type": "code",
   "execution_count": 54,
   "id": "80f5ddf8acf9f55d",
   "metadata": {
    "ExecuteTime": {
     "end_time": "2025-02-26T22:42:43.102066Z",
     "start_time": "2025-02-26T22:42:43.097684Z"
    }
   },
   "outputs": [
    {
     "data": {
      "text/plain": [
       "EducationField\n",
       "Human Resources      27\n",
       "Life Sciences       606\n",
       "Marketing           159\n",
       "Medical             464\n",
       "Other                82\n",
       "Technical Degree    132\n",
       "dtype: int64"
      ]
     },
     "execution_count": 54,
     "metadata": {},
     "output_type": "execute_result"
    }
   ],
   "source": [
    "group_EducationField"
   ]
  },
  {
   "cell_type": "code",
   "execution_count": 55,
   "id": "8054db5e11a48212",
   "metadata": {
    "ExecuteTime": {
     "end_time": "2025-02-26T22:42:43.161028Z",
     "start_time": "2025-02-26T22:42:43.157197Z"
    }
   },
   "outputs": [
    {
     "data": {
      "text/plain": [
       "Gender\n",
       "Female    588\n",
       "Male      882\n",
       "dtype: int64"
      ]
     },
     "execution_count": 55,
     "metadata": {},
     "output_type": "execute_result"
    }
   ],
   "source": [
    "group_Gender"
   ]
  },
  {
   "cell_type": "code",
   "execution_count": 56,
   "id": "f9ab88da31f1a7ee",
   "metadata": {
    "ExecuteTime": {
     "end_time": "2025-02-26T22:42:43.227223Z",
     "start_time": "2025-02-26T22:42:43.223924Z"
    }
   },
   "outputs": [
    {
     "data": {
      "text/plain": [
       "JobRole\n",
       "Healthcare Representative    131\n",
       "Human Resources               52\n",
       "Laboratory Technician        259\n",
       "Manager                      102\n",
       "Manufacturing Director       145\n",
       "Research Director             80\n",
       "Research Scientist           292\n",
       "Sales Executive              326\n",
       "Sales Representative          83\n",
       "dtype: int64"
      ]
     },
     "execution_count": 56,
     "metadata": {},
     "output_type": "execute_result"
    }
   ],
   "source": [
    "group_JobRole"
   ]
  },
  {
   "cell_type": "code",
   "execution_count": 57,
   "id": "99ad52276eb4f391",
   "metadata": {
    "ExecuteTime": {
     "end_time": "2025-02-26T22:42:43.303163Z",
     "start_time": "2025-02-26T22:42:43.299288Z"
    }
   },
   "outputs": [
    {
     "data": {
      "text/plain": [
       "MaritalStatus\n",
       "Divorced    327\n",
       "Married     673\n",
       "Single      470\n",
       "dtype: int64"
      ]
     },
     "execution_count": 57,
     "metadata": {},
     "output_type": "execute_result"
    }
   ],
   "source": [
    "group_MaritalStatus"
   ]
  },
  {
   "cell_type": "code",
   "execution_count": 58,
   "id": "1ec1d02bd6073d93",
   "metadata": {
    "ExecuteTime": {
     "end_time": "2025-02-26T22:42:43.396241Z",
     "start_time": "2025-02-26T22:42:43.392142Z"
    }
   },
   "outputs": [
    {
     "data": {
      "text/plain": [
       "Over18\n",
       "Y    1470\n",
       "dtype: int64"
      ]
     },
     "execution_count": 58,
     "metadata": {},
     "output_type": "execute_result"
    }
   ],
   "source": [
    "group_Over18"
   ]
  },
  {
   "cell_type": "code",
   "execution_count": 59,
   "id": "e586afd06914d50a",
   "metadata": {
    "ExecuteTime": {
     "end_time": "2025-02-26T22:42:43.477932Z",
     "start_time": "2025-02-26T22:42:43.473932Z"
    }
   },
   "outputs": [
    {
     "data": {
      "text/plain": [
       "OverTime\n",
       "No     1054\n",
       "Yes     416\n",
       "dtype: int64"
      ]
     },
     "execution_count": 59,
     "metadata": {},
     "output_type": "execute_result"
    }
   ],
   "source": [
    "group_OverTime"
   ]
  },
  {
   "cell_type": "markdown",
   "id": "4a621d22e77f4aa8",
   "metadata": {},
   "source": [
    "Ao observar essa sequência de colunas do tipo objeto, nota-se que os dados então em conformidade e não apresentam qualquer tipo de erro na digitação."
   ]
  },
  {
   "cell_type": "markdown",
   "id": "e84155322224447f",
   "metadata": {},
   "source": [
    "## 2. Análise de Dados:\n",
    "- Nesta etapa, iremos gerar gráficos e extrair insights dos dados."
   ]
  },
  {
   "cell_type": "markdown",
   "id": "c4d627a713fd74e2",
   "metadata": {},
   "source": [
    "### A. Relação \"Gender\" com \"MonthlyIncome\""
   ]
  },
  {
   "cell_type": "code",
   "execution_count": 182,
   "id": "610590576274841a",
   "metadata": {
    "ExecuteTime": {
     "end_time": "2025-02-26T23:45:49.389239Z",
     "start_time": "2025-02-26T23:45:49.384409Z"
    }
   },
   "outputs": [
    {
     "data": {
      "text/plain": [
       "Gender\n",
       "Female    6686.566327\n",
       "Male      6380.507937\n",
       "Name: MonthlyIncome, dtype: float64"
      ]
     },
     "execution_count": 182,
     "metadata": {},
     "output_type": "execute_result"
    }
   ],
   "source": [
    "gender_income = df.groupby('Gender')['MonthlyIncome'].mean()\n",
    "gender_income\n"
   ]
  },
  {
   "cell_type": "code",
   "execution_count": 184,
   "id": "f0bb6ba66b04dca7",
   "metadata": {
    "ExecuteTime": {
     "end_time": "2025-02-26T23:47:54.812206Z",
     "start_time": "2025-02-26T23:47:54.807025Z"
    }
   },
   "outputs": [
    {
     "data": {
      "text/plain": [
       "Gender\n",
       "Female    588\n",
       "Male      882\n",
       "Name: MonthlyIncome, dtype: int64"
      ]
     },
     "execution_count": 184,
     "metadata": {},
     "output_type": "execute_result"
    }
   ],
   "source": [
    "gender_income = df.groupby('Gender')['MonthlyIncome'].size()\n",
    "gender_income"
   ]
  },
  {
   "cell_type": "code",
   "execution_count": 190,
   "id": "fc9426980e279bfa",
   "metadata": {
    "ExecuteTime": {
     "end_time": "2025-02-26T23:54:48.755829Z",
     "start_time": "2025-02-26T23:54:48.752379Z"
    }
   },
   "outputs": [
    {
     "name": "stdout",
     "output_type": "stream",
     "text": [
      "As mulheres representam: 40.00%\n",
      "Os homens representam: 60.00%\n"
     ]
    }
   ],
   "source": [
    "porcent_female = gender_income.iloc[0] / (gender_income.iloc[0] + gender_income.iloc[1])\n",
    "porcent_male = gender_income.iloc[1] / (gender_income.iloc[0] + gender_income.iloc[1])\n",
    "\n",
    "print(f\"As mulheres representam: {porcent_female*100:.2f}%\")\n",
    "print(f\"Os homens representam: {porcent_male*100:.2f}%\")"
   ]
  },
  {
   "cell_type": "markdown",
   "id": "143117204e3b56e6",
   "metadata": {},
   "source": [
    "- Após observar essas duas informações, sabemos que a média salarial das mulheres é inferior se comparada ao dos homens. No entanto, é importante destacar que a possível causa dessa diferença salarial esteja na quantidade de homens e mulheres na base de dados, pois enquanto os homens representam 60% da base de dados, as mulheres representam 40%."
   ]
  },
  {
   "cell_type": "markdown",
   "id": "dee5786637d95a6f",
   "metadata": {},
   "source": [
    "### B. Proporção da área acadêmica"
   ]
  },
  {
   "cell_type": "code",
   "execution_count": 274,
   "id": "278eed76d6d81482",
   "metadata": {
    "ExecuteTime": {
     "end_time": "2025-02-27T01:47:29.097176Z",
     "start_time": "2025-02-27T01:47:29.041721Z"
    }
   },
   "outputs": [
    {
     "data": {
      "image/png": "[encoded data removed]",
      "text/plain": [
       "<Figure size 1000x500 with 1 Axes>"
      ]
     },
     "metadata": {},
     "output_type": "display_data"
    }
   ],
   "source": [
    "education = df.groupby('EducationField').size()     # Agrupa a quantidade de cada campo de educação\n",
    "\n",
    "plt.figure(figsize=(10, 5))                         # Configura o tamanho do gráfico\n",
    "\n",
    "plt.barh(education.index, education)                # Monta o gráfico de barra horizontal que mostra o agrupamento feito pela variável anterior.\n",
    "\n",
    "plt.xlabel('Quantidade de Pessoas')\n",
    "plt.ylabel('Área Acadêmica')\n",
    "plt.title('Proporção das Áreas Acadêmicas dos registros')\n",
    "plt.show()"
   ]
  },
  {
   "cell_type": "markdown",
   "id": "309233baca6a1b19",
   "metadata": {},
   "source": [
    "- Nota-se que a área acadêmica de maior relevância em termos quantitativos da base é a \"Life Sciences\", o que se difere da \"Human Resources\" que possui uma menor quantidade."
   ]
  },
  {
   "cell_type": "markdown",
   "id": "95d5b8c3283d205b",
   "metadata": {},
   "source": [
    "### C. Quantidade de funcionários que permaneceram por mais tempo na empresa"
   ]
  },
  {
   "cell_type": "code",
   "execution_count": 273,
   "id": "f500c50670ff3bcf",
   "metadata": {
    "ExecuteTime": {
     "end_time": "2025-02-27T01:47:14.215237Z",
     "start_time": "2025-02-27T01:47:14.149722Z"
    }
   },
   "outputs": [
    {
     "data": {
      "text/plain": [
       "Text(0, 0.5, 'Quantidade de Pessoas')"
      ]
     },
     "execution_count": 273,
     "metadata": {},
     "output_type": "execute_result"
    },
    {
     "data": {
      "image/png": "[encoded data removed]",
      "text/plain": [
       "<Figure size 1000x500 with 1 Axes>"
      ]
     },
     "metadata": {},
     "output_type": "display_data"
    }
   ],
   "source": [
    "age_work = df.groupby('TotalWorkingYears').size()\n",
    "plt.figure(figsize=(10, 5))\n",
    "plt.plot(age_work)\n",
    "plt.xlabel('Anos Trabalhados')\n",
    "plt.ylabel('Quantidade de Pessoas')\n"
   ]
  },
  {
   "cell_type": "markdown",
   "id": "100abc83cef0c736",
   "metadata": {},
   "source": [
    "- Nota-se que a maioria dos funcionário conseguem permanecer na empresa um pouco mais de 10 anos de trabalho, após isso o número de demissões começam a crescer e a tendência é menos pessoas permaneceram na empresa."
   ]
  },
  {
   "cell_type": "markdown",
   "id": "337690c462da3445",
   "metadata": {},
   "source": [
    "### D. Satisfação no trabalho por cargo"
   ]
  },
  {
   "cell_type": "code",
   "execution_count": 272,
   "id": "b694edc1774c1eb7",
   "metadata": {
    "ExecuteTime": {
     "end_time": "2025-02-27T01:47:05.538463Z",
     "start_time": "2025-02-27T01:47:05.489388Z"
    }
   },
   "outputs": [
    {
     "data": {
      "text/plain": [
       "<Axes: ylabel='JobSatisfaction'>"
      ]
     },
     "execution_count": 272,
     "metadata": {},
     "output_type": "execute_result"
    },
    {
     "data": {
      "image/png": "[encoded data removed]",
      "text/plain": [
       "<Figure size 1000x500 with 1 Axes>"
      ]
     },
     "metadata": {},
     "output_type": "display_data"
    }
   ],
   "source": [
    "role_satisfaction = df.groupby('JobSatisfaction')['JobRole'].size()\n",
    "\n",
    "plt.figure(figsize=(10, 5))\n",
    "\n",
    "role_satisfaction.plot(kind='barh')"
   ]
  },
  {
   "cell_type": "code",
   "execution_count": 239,
   "id": "a913310eb07e037",
   "metadata": {
    "ExecuteTime": {
     "end_time": "2025-02-27T00:46:03.594899Z",
     "start_time": "2025-02-27T00:46:03.591673Z"
    }
   },
   "outputs": [
    {
     "data": {
      "text/plain": [
       "JobSatisfaction\n",
       "1    289\n",
       "2    280\n",
       "3    442\n",
       "4    459\n",
       "Name: JobRole, dtype: int64"
      ]
     },
     "execution_count": 239,
     "metadata": {},
     "output_type": "execute_result"
    }
   ],
   "source": [
    "role_satisfaction"
   ]
  },
  {
   "cell_type": "markdown",
   "id": "272c258857a4ac0f",
   "metadata": {},
   "source": [
    "- Nota-se que uma quantidade significativa das pessoas dessa empresa ficaram satisfeitas com o seu cargo, levando em consideração que o índicativo está no rótulo 3 e 4."
   ]
  },
  {
   "cell_type": "code",
   "execution_count": 271,
   "id": "a2eebc47b5e698ad",
   "metadata": {
    "ExecuteTime": {
     "end_time": "2025-02-27T01:46:41.101501Z",
     "start_time": "2025-02-27T01:46:41.047503Z"
    }
   },
   "outputs": [
    {
     "data": {
      "image/png": "[encoded data removed]",
      "text/plain": [
       "<Figure size 1000x500 with 1 Axes>"
      ]
     },
     "metadata": {},
     "output_type": "display_data"
    }
   ],
   "source": [
    "import matplotlib.pyplot as plt\n",
    "\n",
    "job_age = df.groupby('Age')['JobLevel'].mean()\n",
    "\n",
    "plt.figure(figsize=(10, 5))\n",
    "plt.plot(job_age.index, job_age.values)\n",
    "\n",
    "plt.xlabel('Idade')\n",
    "plt.ylabel('Média do Nível de Trabalho')\n",
    "plt.title('Relação entre Idade e Nível de Trabalho')\n",
    "plt.show()\n"
   ]
  },
  {
   "cell_type": "markdown",
   "id": "36321a95faf65143",
   "metadata": {},
   "source": [
    "Notas-se que conforme a pessoa tenha uma idade mais avançada, maior será seu nível de trabalho."
   ]
  },
  {
   "cell_type": "markdown",
   "id": "423df62d43121d5",
   "metadata": {},
   "source": [
    "### Resumo"
   ]
  },
  {
   "cell_type": "markdown",
   "id": "e5acef101eb79720",
   "metadata": {},
   "source": [
    "Em resumo, pode-se concluir que nesta base de dados:\n",
    "- Existem mais homens (882) do que mulheres (588).\n",
    "- Existe uma pequena diferença da média salarial entre homens e mulheres.\n",
    "- A uma tendência que após 10 anos de trabalhos, o número de empregados começam a diminuir.\n",
    "- Em geral, os empregados estão satisfeitos com o próprio cargo de trabalho dando notas de 3 ou 4 (nota máxima).\n",
    "- No coletivo, há mais pessoas na área de Life Sciences e muito menos na área de Human Resources.\n",
    "- Existe uma tendência de que conforme a pessoa tenha uma idade avançada, maior será nível de trabalho."
   ]
  }
 ],
 "metadata": {
  "kernelspec": {
   "display_name": "Python 3",
   "language": "python",
   "name": "python3"
  },
  "language_info": {
   "codemirror_mode": {
    "name": "ipython",
    "version": 2
   },
   "file_extension": ".py",
   "mimetype": "text/x-python",
   "name": "python",
   "nbconvert_exporter": "python",
   "pygments_lexer": "ipython2",
   "version": "2.7.6"
  }
 },
 "nbformat": 4,
 "nbformat_minor": 5
}
